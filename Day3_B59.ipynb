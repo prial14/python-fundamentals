{
 "cells": [
  {
   "cell_type": "code",
   "execution_count": null,
   "id": "2b68dc45",
   "metadata": {},
   "outputs": [],
   "source": [
    "continuation with strings : "
   ]
  },
  {
   "cell_type": "code",
   "execution_count": null,
   "id": "899dac6d",
   "metadata": {},
   "outputs": [],
   "source": []
  },
  {
   "cell_type": "code",
   "execution_count": null,
   "id": "be2ebf45",
   "metadata": {},
   "outputs": [],
   "source": [
    "introduction to string methods : "
   ]
  },
  {
   "cell_type": "code",
   "execution_count": null,
   "id": "5e5ff618",
   "metadata": {},
   "outputs": [],
   "source": []
  },
  {
   "cell_type": "code",
   "execution_count": 1,
   "id": "fc8ac374",
   "metadata": {},
   "outputs": [
    {
     "name": "stdout",
     "output_type": "stream",
     "text": [
      "taneja\n"
     ]
    }
   ],
   "source": [
    "name = 'taneja'\n",
    "\n",
    "print(name)"
   ]
  },
  {
   "cell_type": "code",
   "execution_count": null,
   "id": "1d9b7974",
   "metadata": {},
   "outputs": [],
   "source": []
  },
  {
   "cell_type": "code",
   "execution_count": 2,
   "id": "42023937",
   "metadata": {},
   "outputs": [
    {
     "data": {
      "text/plain": [
       "str"
      ]
     },
     "execution_count": 2,
     "metadata": {},
     "output_type": "execute_result"
    }
   ],
   "source": [
    "type(name) "
   ]
  },
  {
   "cell_type": "code",
   "execution_count": null,
   "id": "a244971f",
   "metadata": {},
   "outputs": [],
   "source": [
    "string ----> str"
   ]
  },
  {
   "cell_type": "code",
   "execution_count": null,
   "id": "d6ed4a80",
   "metadata": {},
   "outputs": [],
   "source": []
  },
  {
   "cell_type": "code",
   "execution_count": 3,
   "id": "a0a35122",
   "metadata": {},
   "outputs": [
    {
     "name": "stdout",
     "output_type": "stream",
     "text": [
      "naveed\n"
     ]
    }
   ],
   "source": [
    "name1 = 'naveed'\n",
    "\n",
    "print(name1)"
   ]
  },
  {
   "cell_type": "code",
   "execution_count": 4,
   "id": "884b6af4",
   "metadata": {},
   "outputs": [
    {
     "data": {
      "text/plain": [
       "str"
      ]
     },
     "execution_count": 4,
     "metadata": {},
     "output_type": "execute_result"
    }
   ],
   "source": [
    "type(name1)    type(variable) = to determine datatype"
   ]
  },
  {
   "cell_type": "code",
   "execution_count": null,
   "id": "bccded26",
   "metadata": {},
   "outputs": [],
   "source": []
  },
  {
   "cell_type": "code",
   "execution_count": 6,
   "id": "352a2477",
   "metadata": {},
   "outputs": [
    {
     "name": "stdout",
     "output_type": "stream",
     "text": [
      "rajesh kumar\n"
     ]
    }
   ],
   "source": [
    "fullname = 'rajesh kumar'\n",
    "\n",
    "print(fullname)"
   ]
  },
  {
   "cell_type": "code",
   "execution_count": null,
   "id": "8a6c8bc7",
   "metadata": {},
   "outputs": [],
   "source": []
  },
  {
   "cell_type": "code",
   "execution_count": 7,
   "id": "5d429dd7",
   "metadata": {},
   "outputs": [
    {
     "name": "stdout",
     "output_type": "stream",
     "text": [
      "Rajesh Kumar\n"
     ]
    }
   ],
   "source": [
    "print(fullname.title())        (variable.title()) = Correct format"
   ]
  },
  {
   "cell_type": "code",
   "execution_count": null,
   "id": "efbcde9c",
   "metadata": {},
   "outputs": [],
   "source": []
  },
  {
   "cell_type": "code",
   "execution_count": null,
   "id": "769a01a3",
   "metadata": {},
   "outputs": [],
   "source": [
    "# req : i want to get the fullname in capital letters"
   ]
  },
  {
   "cell_type": "code",
   "execution_count": 8,
   "id": "83f0e045",
   "metadata": {},
   "outputs": [
    {
     "name": "stdout",
     "output_type": "stream",
     "text": [
      "RAJESH KUMAR\n"
     ]
    }
   ],
   "source": [
    "print(fullname.upper())         (variable.upper()) = Capital letters"
   ]
  },
  {
   "cell_type": "code",
   "execution_count": null,
   "id": "29b9cce8",
   "metadata": {},
   "outputs": [],
   "source": []
  },
  {
   "cell_type": "code",
   "execution_count": null,
   "id": "717de54e",
   "metadata": {},
   "outputs": [],
   "source": [
    "# req : i want to get full name in small case letters"
   ]
  },
  {
   "cell_type": "code",
   "execution_count": 9,
   "id": "2504f9a3",
   "metadata": {},
   "outputs": [
    {
     "name": "stdout",
     "output_type": "stream",
     "text": [
      "rajesh kumar\n"
     ]
    }
   ],
   "source": [
    "print(fullname.lower())          (variable.lower()) = Small letters"
   ]
  },
  {
   "cell_type": "code",
   "execution_count": null,
   "id": "8782149d",
   "metadata": {},
   "outputs": [],
   "source": []
  },
  {
   "cell_type": "code",
   "execution_count": null,
   "id": "9b8d3dca",
   "metadata": {},
   "outputs": [],
   "source": [
    "introduction to f strings :"
   ]
  },
  {
   "cell_type": "code",
   "execution_count": null,
   "id": "80aa8edd",
   "metadata": {},
   "outputs": [],
   "source": []
  },
  {
   "cell_type": "code",
   "execution_count": null,
   "id": "e9eddd8a",
   "metadata": {},
   "outputs": [],
   "source": [
    "# general syntax for the f strings : "
   ]
  },
  {
   "cell_type": "code",
   "execution_count": null,
   "id": "3a361627",
   "metadata": {},
   "outputs": [],
   "source": [
    "f\" custom message {placeholder1} {placeholder2}.....{placeholder....n}\""
   ]
  },
  {
   "cell_type": "code",
   "execution_count": null,
   "id": "8d95764c",
   "metadata": {},
   "outputs": [],
   "source": []
  },
  {
   "cell_type": "code",
   "execution_count": 13,
   "id": "209e506a",
   "metadata": {},
   "outputs": [],
   "source": [
    "firstname = 'vamsi'\n",
    "lastname = 'chowdhary'"
   ]
  },
  {
   "cell_type": "code",
   "execution_count": null,
   "id": "c2f33824",
   "metadata": {},
   "outputs": [],
   "source": []
  },
  {
   "cell_type": "code",
   "execution_count": null,
   "id": "bd01c9fe",
   "metadata": {},
   "outputs": [],
   "source": [
    "#req : get the full name...?"
   ]
  },
  {
   "cell_type": "code",
   "execution_count": null,
   "id": "be46cd72",
   "metadata": {},
   "outputs": [],
   "source": []
  },
  {
   "cell_type": "code",
   "execution_count": 14,
   "id": "07e35c0f",
   "metadata": {},
   "outputs": [
    {
     "name": "stdout",
     "output_type": "stream",
     "text": [
      " vamsi chowdhary\n"
     ]
    }
   ],
   "source": [
    "full_name = f\" {firstname} {lastname}\"\n",
    "\n",
    "print(full_name)"
   ]
  },
  {
   "cell_type": "code",
   "execution_count": 15,
   "id": "d8614eea",
   "metadata": {},
   "outputs": [
    {
     "name": "stdout",
     "output_type": "stream",
     "text": [
      "keep up the good work,  Vamsi Chowdhary\n"
     ]
    }
   ],
   "source": [
    "message = f\"keep up the good work, {full_name.title()}\"\n",
    "\n",
    "print(message)"
   ]
  },
  {
   "cell_type": "code",
   "execution_count": null,
   "id": "526a80dd",
   "metadata": {},
   "outputs": [],
   "source": []
  },
  {
   "cell_type": "code",
   "execution_count": null,
   "id": "683d851b",
   "metadata": {},
   "outputs": [],
   "source": [
    "Adding whitespaces to strings:"
   ]
  },
  {
   "cell_type": "code",
   "execution_count": null,
   "id": "d1401e8f",
   "metadata": {},
   "outputs": [],
   "source": []
  },
  {
   "cell_type": "code",
   "execution_count": 16,
   "id": "95ad2f7e",
   "metadata": {},
   "outputs": [
    {
     "name": "stdout",
     "output_type": "stream",
     "text": [
      "favourite_language:pythonC++javacpascalcobal\n"
     ]
    }
   ],
   "source": [
    "print('favourite_language:pythonC++javacpascalcobal')"
   ]
  },
  {
   "cell_type": "code",
   "execution_count": 17,
   "id": "e24a9525",
   "metadata": {},
   "outputs": [
    {
     "name": "stdout",
     "output_type": "stream",
     "text": [
      "favourite_language:\n",
      "python\n",
      "C++\n",
      "java\n",
      "c\n",
      "pascal\n",
      "cobal\n"
     ]
    }
   ],
   "source": [
    "print('favourite_language:\\npython\\nC++\\njava\\nc\\npascal\\ncobal')"
   ]
  },
  {
   "cell_type": "code",
   "execution_count": null,
   "id": "016e7c46",
   "metadata": {},
   "outputs": [],
   "source": [
    "\\n -----> new line delimiter"
   ]
  },
  {
   "cell_type": "code",
   "execution_count": 19,
   "id": "0fe22c16",
   "metadata": {},
   "outputs": [
    {
     "name": "stdout",
     "output_type": "stream",
     "text": [
      "favourite_language:\n",
      "\tpython\n",
      "\tC++\n",
      "\tjava\n",
      "\tc\n",
      "\tpascal\n",
      "\tcobal\n"
     ]
    }
   ],
   "source": [
    "print('favourite_language:\\n\\tpython\\n\\tC++\\n\\tjava\\n\\tc\\n\\tpascal\\n\\tcobal')"
   ]
  },
  {
   "cell_type": "code",
   "execution_count": null,
   "id": "6204ad9b",
   "metadata": {},
   "outputs": [],
   "source": [
    "\\t ----> tab delimiter"
   ]
  },
  {
   "cell_type": "code",
   "execution_count": null,
   "id": "d36b6802",
   "metadata": {},
   "outputs": [],
   "source": []
  },
  {
   "cell_type": "code",
   "execution_count": null,
   "id": "572cf795",
   "metadata": {},
   "outputs": [],
   "source": []
  },
  {
   "cell_type": "code",
   "execution_count": null,
   "id": "d9e5d77a",
   "metadata": {},
   "outputs": [],
   "source": []
  },
  {
   "cell_type": "code",
   "execution_count": null,
   "id": "37f22177",
   "metadata": {},
   "outputs": [],
   "source": []
  }
 ],
 "metadata": {
  "kernelspec": {
   "display_name": "Python 3 (ipykernel)",
   "language": "python",
   "name": "python3"
  },
  "language_info": {
   "codemirror_mode": {
    "name": "ipython",
    "version": 3
   },
   "file_extension": ".py",
   "mimetype": "text/x-python",
   "name": "python",
   "nbconvert_exporter": "python",
   "pygments_lexer": "ipython3",
   "version": "3.9.12"
  }
 },
 "nbformat": 4,
 "nbformat_minor": 5
}
