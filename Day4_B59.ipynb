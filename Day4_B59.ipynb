{
 "cells": [
  {
   "cell_type": "code",
   "execution_count": null,
   "id": "11c9ef2d",
   "metadata": {},
   "outputs": [],
   "source": [
    "Introduction to list datatype : "
   ]
  },
  {
   "cell_type": "code",
   "execution_count": null,
   "id": "83430dff",
   "metadata": {},
   "outputs": [],
   "source": [
    "defination : A list is a collection of items declared in a particular order.\n",
    "\n",
    "classification : it is classified as a mutable datatype\n",
    "    \n",
    "how to declare the list datatype --------> []"
   ]
  },
  {
   "cell_type": "code",
   "execution_count": null,
   "id": "68a55d74",
   "metadata": {},
   "outputs": [],
   "source": []
  },
  {
   "cell_type": "code",
   "execution_count": 2,
   "id": "c5e664e4",
   "metadata": {},
   "outputs": [],
   "source": [
    "students = ['arvind', 'sneha', 'john', 'david', 'nusrat', 'aradhya', 'nitya', 'asna']"
   ]
  },
  {
   "cell_type": "code",
   "execution_count": 3,
   "id": "d3704e6e",
   "metadata": {},
   "outputs": [
    {
     "name": "stdout",
     "output_type": "stream",
     "text": [
      "['arvind', 'sneha', 'john', 'david', 'nusrat', 'aradhya', 'nitya', 'asna']\n"
     ]
    }
   ],
   "source": [
    "print(students)"
   ]
  },
  {
   "cell_type": "code",
   "execution_count": null,
   "id": "ee787174",
   "metadata": {},
   "outputs": [],
   "source": []
  },
  {
   "cell_type": "code",
   "execution_count": 4,
   "id": "c0d2a0a0",
   "metadata": {},
   "outputs": [
    {
     "data": {
      "text/plain": [
       "list"
      ]
     },
     "execution_count": 4,
     "metadata": {},
     "output_type": "execute_result"
    }
   ],
   "source": [
    "type(students)                    type(variable) = to determine datatype"
   ]
  },
  {
   "cell_type": "code",
   "execution_count": null,
   "id": "5666df2c",
   "metadata": {},
   "outputs": [],
   "source": []
  },
  {
   "cell_type": "code",
   "execution_count": null,
   "id": "8df00fcb",
   "metadata": {},
   "outputs": [],
   "source": [
    "# how to access the above elements from the list?"
   ]
  },
  {
   "cell_type": "code",
   "execution_count": null,
   "id": "f9f00266",
   "metadata": {},
   "outputs": [],
   "source": []
  },
  {
   "cell_type": "code",
   "execution_count": null,
   "id": "425ae324",
   "metadata": {},
   "outputs": [],
   "source": [
    "introduction to indexing : 0,1,2,3,4......."
   ]
  },
  {
   "cell_type": "code",
   "execution_count": null,
   "id": "26d9f585",
   "metadata": {},
   "outputs": [],
   "source": [
    "# req : i wanted to access john name from the above list?"
   ]
  },
  {
   "cell_type": "code",
   "execution_count": 5,
   "id": "13c14642",
   "metadata": {},
   "outputs": [
    {
     "name": "stdout",
     "output_type": "stream",
     "text": [
      "john\n"
     ]
    }
   ],
   "source": [
    "print(students[2])                         print(variable[index]) to print desired name/thing"
   ]
  },
  {
   "cell_type": "code",
   "execution_count": 6,
   "id": "6a3a56e2",
   "metadata": {},
   "outputs": [
    {
     "name": "stdout",
     "output_type": "stream",
     "text": [
      "aradhya\n"
     ]
    }
   ],
   "source": [
    "print(students[5])"
   ]
  },
  {
   "cell_type": "code",
   "execution_count": 7,
   "id": "8f7cb66b",
   "metadata": {},
   "outputs": [
    {
     "name": "stdout",
     "output_type": "stream",
     "text": [
      "Aradhya\n"
     ]
    }
   ],
   "source": [
    "print(students[5].title())                  print(variable[index].title())- correct format"
   ]
  },
  {
   "cell_type": "code",
   "execution_count": null,
   "id": "807654a7",
   "metadata": {},
   "outputs": [],
   "source": []
  },
  {
   "cell_type": "code",
   "execution_count": null,
   "id": "e20fc77d",
   "metadata": {},
   "outputs": [],
   "source": [
    "1. how to add new elements to the list\n",
    "\n",
    "2. how to modify the elements in the list\n",
    "\n",
    "3. how to delete the elements in the list"
   ]
  },
  {
   "cell_type": "code",
   "execution_count": null,
   "id": "30043418",
   "metadata": {},
   "outputs": [],
   "source": []
  },
  {
   "cell_type": "code",
   "execution_count": 8,
   "id": "7067a2b0",
   "metadata": {},
   "outputs": [
    {
     "name": "stdout",
     "output_type": "stream",
     "text": [
      "['arvind', 'sneha', 'john', 'david', 'nusrat', 'aradhya', 'nitya', 'asna']\n"
     ]
    }
   ],
   "source": [
    "print(students)"
   ]
  },
  {
   "cell_type": "code",
   "execution_count": null,
   "id": "7b162495",
   "metadata": {},
   "outputs": [],
   "source": [
    "# req : i want to add 'sachin' name to the above list...."
   ]
  },
  {
   "cell_type": "code",
   "execution_count": null,
   "id": "cd70dd9e",
   "metadata": {},
   "outputs": [],
   "source": []
  },
  {
   "cell_type": "code",
   "execution_count": 9,
   "id": "2a30eb13",
   "metadata": {},
   "outputs": [],
   "source": [
    "students.append('sachin')                 append() = add in last"
   ]
  },
  {
   "cell_type": "code",
   "execution_count": 10,
   "id": "533378ce",
   "metadata": {},
   "outputs": [
    {
     "name": "stdout",
     "output_type": "stream",
     "text": [
      "['arvind', 'sneha', 'john', 'david', 'nusrat', 'aradhya', 'nitya', 'asna', 'sachin']\n"
     ]
    }
   ],
   "source": [
    "print(students)"
   ]
  },
  {
   "cell_type": "code",
   "execution_count": null,
   "id": "f3d70496",
   "metadata": {},
   "outputs": [],
   "source": [
    "# req : i want to add 'lavanya' name to the above list...."
   ]
  },
  {
   "cell_type": "code",
   "execution_count": 11,
   "id": "af1850f9",
   "metadata": {},
   "outputs": [],
   "source": [
    "students.append('lavanya')"
   ]
  },
  {
   "cell_type": "code",
   "execution_count": 12,
   "id": "47e0c4f0",
   "metadata": {},
   "outputs": [
    {
     "name": "stdout",
     "output_type": "stream",
     "text": [
      "['arvind', 'sneha', 'john', 'david', 'nusrat', 'aradhya', 'nitya', 'asna', 'sachin', 'lavanya']\n"
     ]
    }
   ],
   "source": [
    "print(students)"
   ]
  },
  {
   "cell_type": "code",
   "execution_count": null,
   "id": "80419d92",
   "metadata": {},
   "outputs": [],
   "source": [
    "#req : i want to add 'chetna' name to the 2nd index."
   ]
  },
  {
   "cell_type": "code",
   "execution_count": 13,
   "id": "62772168",
   "metadata": {},
   "outputs": [],
   "source": [
    "students.insert(2,'chetna')                          insert(index, entry) at desired position"
   ]
  },
  {
   "cell_type": "code",
   "execution_count": 14,
   "id": "9c864a39",
   "metadata": {},
   "outputs": [
    {
     "name": "stdout",
     "output_type": "stream",
     "text": [
      "chetna\n"
     ]
    }
   ],
   "source": [
    "print(students[2])"
   ]
  },
  {
   "cell_type": "code",
   "execution_count": 15,
   "id": "e6d331af",
   "metadata": {},
   "outputs": [
    {
     "name": "stdout",
     "output_type": "stream",
     "text": [
      "['arvind', 'sneha', 'chetna', 'john', 'david', 'nusrat', 'aradhya', 'nitya', 'asna', 'sachin', 'lavanya']\n"
     ]
    }
   ],
   "source": [
    "print(students)"
   ]
  },
  {
   "cell_type": "code",
   "execution_count": null,
   "id": "f5acae47",
   "metadata": {},
   "outputs": [],
   "source": [
    "interview ques : what is the difference btw append and insert method in a list datatype? **"
   ]
  },
  {
   "cell_type": "code",
   "execution_count": null,
   "id": "9e4afb0a",
   "metadata": {},
   "outputs": [],
   "source": []
  },
  {
   "cell_type": "code",
   "execution_count": null,
   "id": "92df8511",
   "metadata": {},
   "outputs": [],
   "source": [
    "# how to modify the elements in the list."
   ]
  },
  {
   "cell_type": "code",
   "execution_count": 16,
   "id": "54011506",
   "metadata": {},
   "outputs": [
    {
     "name": "stdout",
     "output_type": "stream",
     "text": [
      "['arvind', 'sneha', 'chetna', 'john', 'david', 'nusrat', 'aradhya', 'nitya', 'asna', 'sachin', 'lavanya']\n"
     ]
    }
   ],
   "source": [
    "print(students)"
   ]
  },
  {
   "cell_type": "code",
   "execution_count": null,
   "id": "0bbc79ce",
   "metadata": {},
   "outputs": [],
   "source": [
    "#req : i want to modify chetna name to 'charu'"
   ]
  },
  {
   "cell_type": "code",
   "execution_count": 17,
   "id": "3be426c8",
   "metadata": {},
   "outputs": [
    {
     "name": "stdout",
     "output_type": "stream",
     "text": [
      "chetna\n"
     ]
    }
   ],
   "source": [
    "print(students[2])"
   ]
  },
  {
   "cell_type": "code",
   "execution_count": 18,
   "id": "fc41e22f",
   "metadata": {},
   "outputs": [],
   "source": [
    "students[2] = 'charu'                           varible[index] = modified name/object"
   ]
  },
  {
   "cell_type": "code",
   "execution_count": 19,
   "id": "cf01f82f",
   "metadata": {},
   "outputs": [
    {
     "name": "stdout",
     "output_type": "stream",
     "text": [
      "charu\n"
     ]
    }
   ],
   "source": [
    "print(students[2])"
   ]
  },
  {
   "cell_type": "code",
   "execution_count": 20,
   "id": "ddb932e6",
   "metadata": {},
   "outputs": [
    {
     "name": "stdout",
     "output_type": "stream",
     "text": [
      "['arvind', 'sneha', 'charu', 'john', 'david', 'nusrat', 'aradhya', 'nitya', 'asna', 'sachin', 'lavanya']\n"
     ]
    }
   ],
   "source": [
    "print(students)"
   ]
  },
  {
   "cell_type": "code",
   "execution_count": null,
   "id": "645fac26",
   "metadata": {},
   "outputs": [],
   "source": [
    "# how to delete elements in the list."
   ]
  },
  {
   "cell_type": "code",
   "execution_count": 21,
   "id": "8b9cc9a6",
   "metadata": {},
   "outputs": [
    {
     "name": "stdout",
     "output_type": "stream",
     "text": [
      "['arvind', 'sneha', 'charu', 'john', 'david', 'nusrat', 'aradhya', 'nitya', 'asna', 'sachin', 'lavanya']\n"
     ]
    }
   ],
   "source": [
    "print(students)"
   ]
  },
  {
   "cell_type": "code",
   "execution_count": null,
   "id": "d573e0fc",
   "metadata": {},
   "outputs": [],
   "source": [
    "#req : i want to delete 'david' from the above list?"
   ]
  },
  {
   "cell_type": "code",
   "execution_count": 22,
   "id": "78deb0b1",
   "metadata": {},
   "outputs": [],
   "source": [
    "del students[4]                                     del variable[index]"
   ]
  },
  {
   "cell_type": "code",
   "execution_count": 24,
   "id": "1c0eba60",
   "metadata": {},
   "outputs": [
    {
     "name": "stdout",
     "output_type": "stream",
     "text": [
      "['arvind', 'sneha', 'charu', 'john', 'nusrat', 'aradhya', 'nitya', 'asna', 'sachin', 'lavanya']\n"
     ]
    }
   ],
   "source": [
    "print(students)"
   ]
  },
  {
   "cell_type": "code",
   "execution_count": null,
   "id": "171a80d7",
   "metadata": {},
   "outputs": [],
   "source": []
  },
  {
   "cell_type": "code",
   "execution_count": null,
   "id": "278c889e",
   "metadata": {},
   "outputs": [],
   "source": []
  }
 ],
 "metadata": {
  "kernelspec": {
   "display_name": "Python 3 (ipykernel)",
   "language": "python",
   "name": "python3"
  },
  "language_info": {
   "codemirror_mode": {
    "name": "ipython",
    "version": 3
   },
   "file_extension": ".py",
   "mimetype": "text/x-python",
   "name": "python",
   "nbconvert_exporter": "python",
   "pygments_lexer": "ipython3",
   "version": "3.9.12"
  }
 },
 "nbformat": 4,
 "nbformat_minor": 5
}
