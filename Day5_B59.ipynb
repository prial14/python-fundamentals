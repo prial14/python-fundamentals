{
 "cells": [
  {
   "cell_type": "code",
   "execution_count": null,
   "id": "c8a9de6a",
   "metadata": {},
   "outputs": [],
   "source": [
    "organising the list datatype :"
   ]
  },
  {
   "cell_type": "code",
   "execution_count": null,
   "id": "0f9adeb6",
   "metadata": {},
   "outputs": [],
   "source": []
  },
  {
   "cell_type": "code",
   "execution_count": 1,
   "id": "4e8322b1",
   "metadata": {},
   "outputs": [],
   "source": [
    "students = ['rohan', 'naveed', 'vindhya', 'asna', 'laiba', 'radhika', 'nikhil']"
   ]
  },
  {
   "cell_type": "code",
   "execution_count": 2,
   "id": "88d72275",
   "metadata": {},
   "outputs": [
    {
     "name": "stdout",
     "output_type": "stream",
     "text": [
      "['rohan', 'naveed', 'vindhya', 'asna', 'laiba', 'radhika', 'nikhil']\n"
     ]
    }
   ],
   "source": [
    "print(students)"
   ]
  },
  {
   "cell_type": "code",
   "execution_count": null,
   "id": "111ade53",
   "metadata": {},
   "outputs": [],
   "source": [
    "\n",
    "\n"
   ]
  },
  {
   "cell_type": "code",
   "execution_count": null,
   "id": "568879fa",
   "metadata": {},
   "outputs": [],
   "source": [
    "# req : i wanted to print naveed name, what is the index i have to use...?"
   ]
  },
  {
   "cell_type": "code",
   "execution_count": 3,
   "id": "c28f55e1",
   "metadata": {},
   "outputs": [
    {
     "name": "stdout",
     "output_type": "stream",
     "text": [
      "naveed\n"
     ]
    }
   ],
   "source": [
    "print(students[1])"
   ]
  },
  {
   "cell_type": "code",
   "execution_count": 4,
   "id": "d576f77e",
   "metadata": {},
   "outputs": [
    {
     "name": "stdout",
     "output_type": "stream",
     "text": [
      "Naveed\n"
     ]
    }
   ],
   "source": [
    "print(students[1].title())"
   ]
  },
  {
   "cell_type": "code",
   "execution_count": null,
   "id": "53f149f7",
   "metadata": {},
   "outputs": [],
   "source": []
  },
  {
   "cell_type": "code",
   "execution_count": 5,
   "id": "9ea09417",
   "metadata": {},
   "outputs": [],
   "source": [
    "cars = ['kia', 'audi', 'ciaz', 'benz', 'suzuki', 'bmw']"
   ]
  },
  {
   "cell_type": "code",
   "execution_count": 6,
   "id": "42f2c19f",
   "metadata": {},
   "outputs": [
    {
     "name": "stdout",
     "output_type": "stream",
     "text": [
      "['kia', 'audi', 'ciaz', 'benz', 'suzuki', 'bmw']\n"
     ]
    }
   ],
   "source": [
    "print(cars)"
   ]
  },
  {
   "cell_type": "code",
   "execution_count": null,
   "id": "25fbccf7",
   "metadata": {},
   "outputs": [],
   "source": []
  },
  {
   "cell_type": "code",
   "execution_count": null,
   "id": "ce453550",
   "metadata": {},
   "outputs": [],
   "source": [
    "# i want to arrange the above list in alphabetical order....A - Z"
   ]
  },
  {
   "cell_type": "code",
   "execution_count": null,
   "id": "fd5d7c5e",
   "metadata": {},
   "outputs": [],
   "source": [
    "# two approaches :\n",
    "\n",
    "1. temp approach -----> sorted ====> we can retain the orignal order\n",
    "\n",
    "2. permanent approach ---> sort =====> changes are applied permanently"
   ]
  },
  {
   "cell_type": "code",
   "execution_count": 7,
   "id": "f16609c7",
   "metadata": {},
   "outputs": [
    {
     "name": "stdout",
     "output_type": "stream",
     "text": [
      "['audi', 'benz', 'bmw', 'ciaz', 'kia', 'suzuki']\n"
     ]
    }
   ],
   "source": [
    "print(sorted(cars))"
   ]
  },
  {
   "cell_type": "code",
   "execution_count": null,
   "id": "8be19ea6",
   "metadata": {},
   "outputs": [],
   "source": [
    "benz and bmw ====> e and m"
   ]
  },
  {
   "cell_type": "code",
   "execution_count": 8,
   "id": "a147e9e5",
   "metadata": {},
   "outputs": [
    {
     "name": "stdout",
     "output_type": "stream",
     "text": [
      "['kia', 'audi', 'ciaz', 'benz', 'suzuki', 'bmw']\n"
     ]
    }
   ],
   "source": [
    "print(cars)"
   ]
  },
  {
   "cell_type": "code",
   "execution_count": null,
   "id": "b704a95b",
   "metadata": {},
   "outputs": [],
   "source": []
  },
  {
   "cell_type": "code",
   "execution_count": 9,
   "id": "dd3e4ae7",
   "metadata": {},
   "outputs": [],
   "source": [
    "cars.sort()"
   ]
  },
  {
   "cell_type": "code",
   "execution_count": 10,
   "id": "75b08fdc",
   "metadata": {},
   "outputs": [
    {
     "name": "stdout",
     "output_type": "stream",
     "text": [
      "['audi', 'benz', 'bmw', 'ciaz', 'kia', 'suzuki']\n"
     ]
    }
   ],
   "source": [
    "print(cars)"
   ]
  },
  {
   "cell_type": "code",
   "execution_count": 11,
   "id": "cd1ba200",
   "metadata": {},
   "outputs": [
    {
     "name": "stdout",
     "output_type": "stream",
     "text": [
      "['audi', 'benz', 'bmw', 'ciaz', 'kia', 'suzuki']\n"
     ]
    }
   ],
   "source": [
    "print(cars)"
   ]
  },
  {
   "cell_type": "code",
   "execution_count": null,
   "id": "0abff8ee",
   "metadata": {},
   "outputs": [],
   "source": [
    "interview questions : what is the diff between sorted and sort method in a list...?"
   ]
  },
  {
   "cell_type": "code",
   "execution_count": null,
   "id": "8ebe5550",
   "metadata": {},
   "outputs": [],
   "source": []
  },
  {
   "cell_type": "code",
   "execution_count": null,
   "id": "3c265826",
   "metadata": {},
   "outputs": [],
   "source": [
    "# req :  want to print the list in the reverse order.....?"
   ]
  },
  {
   "cell_type": "code",
   "execution_count": 12,
   "id": "8731f3ca",
   "metadata": {},
   "outputs": [
    {
     "name": "stdout",
     "output_type": "stream",
     "text": [
      "['audi', 'benz', 'bmw', 'ciaz', 'kia', 'suzuki']\n"
     ]
    }
   ],
   "source": [
    "print(cars)"
   ]
  },
  {
   "cell_type": "code",
   "execution_count": 13,
   "id": "3534f5a4",
   "metadata": {},
   "outputs": [],
   "source": [
    "cars.reverse()"
   ]
  },
  {
   "cell_type": "code",
   "execution_count": 14,
   "id": "913b1c5e",
   "metadata": {},
   "outputs": [
    {
     "name": "stdout",
     "output_type": "stream",
     "text": [
      "['suzuki', 'kia', 'ciaz', 'bmw', 'benz', 'audi']\n"
     ]
    }
   ],
   "source": [
    "print(cars)"
   ]
  },
  {
   "cell_type": "code",
   "execution_count": null,
   "id": "4e022015",
   "metadata": {},
   "outputs": [],
   "source": []
  },
  {
   "cell_type": "code",
   "execution_count": null,
   "id": "eb38228b",
   "metadata": {},
   "outputs": [],
   "source": [
    "# req : i want to count the no of elements present in the list...?"
   ]
  },
  {
   "cell_type": "code",
   "execution_count": 15,
   "id": "235c0372",
   "metadata": {},
   "outputs": [
    {
     "data": {
      "text/plain": [
       "6"
      ]
     },
     "execution_count": 15,
     "metadata": {},
     "output_type": "execute_result"
    }
   ],
   "source": [
    "len(cars)"
   ]
  },
  {
   "cell_type": "code",
   "execution_count": null,
   "id": "a20ab9c9",
   "metadata": {},
   "outputs": [],
   "source": []
  },
  {
   "cell_type": "code",
   "execution_count": null,
   "id": "90f2e171",
   "metadata": {},
   "outputs": [],
   "source": [
    "Slicing of the list datatype : "
   ]
  },
  {
   "cell_type": "code",
   "execution_count": 16,
   "id": "c60390aa",
   "metadata": {},
   "outputs": [
    {
     "name": "stdout",
     "output_type": "stream",
     "text": [
      "['rohan', 'naveed', 'vindhya', 'asna', 'laiba', 'radhika', 'nikhil']\n"
     ]
    }
   ],
   "source": [
    "print(students)"
   ]
  },
  {
   "cell_type": "code",
   "execution_count": null,
   "id": "dc681c84",
   "metadata": {},
   "outputs": [],
   "source": []
  },
  {
   "cell_type": "code",
   "execution_count": null,
   "id": "df890078",
   "metadata": {},
   "outputs": [],
   "source": [
    "# general syntax of slicing : "
   ]
  },
  {
   "cell_type": "code",
   "execution_count": null,
   "id": "87e874fa",
   "metadata": {},
   "outputs": [],
   "source": [
    "print(list[startvalue : stop value : step count])"
   ]
  },
  {
   "cell_type": "code",
   "execution_count": null,
   "id": "86ca965e",
   "metadata": {},
   "outputs": [],
   "source": [
    "Note : stop value is always exclusive. + 1 to include the stop value."
   ]
  },
  {
   "cell_type": "code",
   "execution_count": null,
   "id": "5d361701",
   "metadata": {},
   "outputs": [],
   "source": [
    "# req : i want to include rohan and naveed in a list?"
   ]
  },
  {
   "cell_type": "code",
   "execution_count": 17,
   "id": "344d6f38",
   "metadata": {},
   "outputs": [
    {
     "name": "stdout",
     "output_type": "stream",
     "text": [
      "['rohan']\n"
     ]
    }
   ],
   "source": [
    "print(students[0:1])"
   ]
  },
  {
   "cell_type": "code",
   "execution_count": 18,
   "id": "96df5100",
   "metadata": {},
   "outputs": [
    {
     "name": "stdout",
     "output_type": "stream",
     "text": [
      "['rohan', 'naveed']\n"
     ]
    }
   ],
   "source": [
    "print(students[0:2])"
   ]
  },
  {
   "cell_type": "code",
   "execution_count": 19,
   "id": "4fc7122e",
   "metadata": {},
   "outputs": [
    {
     "name": "stdout",
     "output_type": "stream",
     "text": [
      "['vindhya', 'asna']\n"
     ]
    }
   ],
   "source": [
    "print(students[2:4])"
   ]
  },
  {
   "cell_type": "code",
   "execution_count": 20,
   "id": "44b5c75c",
   "metadata": {},
   "outputs": [
    {
     "name": "stdout",
     "output_type": "stream",
     "text": [
      "['laiba', 'radhika']\n"
     ]
    }
   ],
   "source": [
    "print(students[4:6])"
   ]
  },
  {
   "cell_type": "code",
   "execution_count": 21,
   "id": "583a019e",
   "metadata": {},
   "outputs": [
    {
     "name": "stdout",
     "output_type": "stream",
     "text": [
      "['rohan', 'vindhya', 'laiba', 'nikhil']\n"
     ]
    }
   ],
   "source": [
    "print(students[0:8:2])                    [0:8(stop value + 1):step count]"
   ]
  },
  {
   "cell_type": "code",
   "execution_count": 22,
   "id": "13377923",
   "metadata": {},
   "outputs": [
    {
     "name": "stdout",
     "output_type": "stream",
     "text": [
      "['rohan', 'asna', 'nikhil']\n"
     ]
    }
   ],
   "source": [
    "print(students[0:8:3])"
   ]
  },
  {
   "cell_type": "code",
   "execution_count": null,
   "id": "06c01b1e",
   "metadata": {},
   "outputs": [],
   "source": []
  }
 ],
 "metadata": {
  "kernelspec": {
   "display_name": "Python 3 (ipykernel)",
   "language": "python",
   "name": "python3"
  },
  "language_info": {
   "codemirror_mode": {
    "name": "ipython",
    "version": 3
   },
   "file_extension": ".py",
   "mimetype": "text/x-python",
   "name": "python",
   "nbconvert_exporter": "python",
   "pygments_lexer": "ipython3",
   "version": "3.9.12"
  }
 },
 "nbformat": 4,
 "nbformat_minor": 5
}
