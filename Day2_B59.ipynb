{
 "cells": [
  {
   "cell_type": "code",
   "execution_count": null,
   "id": "3580bea0",
   "metadata": {},
   "outputs": [],
   "source": [
    "understanding the variables in python"
   ]
  },
  {
   "cell_type": "code",
   "execution_count": null,
   "id": "fdb72830",
   "metadata": {},
   "outputs": [],
   "source": []
  },
  {
   "cell_type": "code",
   "execution_count": 3,
   "id": "df26b29e",
   "metadata": {},
   "outputs": [],
   "source": [
    "x = 2\n",
    "y = 3"
   ]
  },
  {
   "cell_type": "code",
   "execution_count": 4,
   "id": "acbced4d",
   "metadata": {},
   "outputs": [
    {
     "name": "stdout",
     "output_type": "stream",
     "text": [
      "5\n"
     ]
    }
   ],
   "source": [
    "z = x+y\n",
    "\n",
    "print(z)"
   ]
  },
  {
   "cell_type": "code",
   "execution_count": null,
   "id": "7f371278",
   "metadata": {},
   "outputs": [],
   "source": []
  },
  {
   "cell_type": "code",
   "execution_count": null,
   "id": "5bdd7d93",
   "metadata": {},
   "outputs": [],
   "source": [
    "Rules for declaring the variables in python"
   ]
  },
  {
   "cell_type": "code",
   "execution_count": null,
   "id": "57d3489f",
   "metadata": {},
   "outputs": [],
   "source": [
    "Rule No : 1 = No namespaces while declaring the variables"
   ]
  },
  {
   "cell_type": "code",
   "execution_count": 5,
   "id": "c60c1cbf",
   "metadata": {},
   "outputs": [
    {
     "ename": "SyntaxError",
     "evalue": "invalid syntax (2281367475.py, line 1)",
     "output_type": "error",
     "traceback": [
      "\u001b[1;36m  Input \u001b[1;32mIn [5]\u001b[1;36m\u001b[0m\n\u001b[1;33m    first name = 'Prial'\u001b[0m\n\u001b[1;37m          ^\u001b[0m\n\u001b[1;31mSyntaxError\u001b[0m\u001b[1;31m:\u001b[0m invalid syntax\n"
     ]
    }
   ],
   "source": [
    "first name = 'Prial'\n",
    "\n",
    "print(first name)"
   ]
  },
  {
   "cell_type": "code",
   "execution_count": 6,
   "id": "f340c392",
   "metadata": {},
   "outputs": [
    {
     "name": "stdout",
     "output_type": "stream",
     "text": [
      "prial\n"
     ]
    }
   ],
   "source": [
    "firstname = 'prial'\n",
    "\n",
    "print(firstname)"
   ]
  },
  {
   "cell_type": "code",
   "execution_count": null,
   "id": "ad38bc64",
   "metadata": {},
   "outputs": [],
   "source": []
  },
  {
   "cell_type": "code",
   "execution_count": null,
   "id": "7fef5bad",
   "metadata": {},
   "outputs": [],
   "source": [
    "Rule no 2 : A variable should not start with a number **"
   ]
  },
  {
   "cell_type": "code",
   "execution_count": 7,
   "id": "0770be0c",
   "metadata": {},
   "outputs": [
    {
     "ename": "SyntaxError",
     "evalue": "invalid syntax (3329839199.py, line 1)",
     "output_type": "error",
     "traceback": [
      "\u001b[1;36m  Input \u001b[1;32mIn [7]\u001b[1;36m\u001b[0m\n\u001b[1;33m    1name = 'taneja'\u001b[0m\n\u001b[1;37m     ^\u001b[0m\n\u001b[1;31mSyntaxError\u001b[0m\u001b[1;31m:\u001b[0m invalid syntax\n"
     ]
    }
   ],
   "source": [
    "1name = 'taneja'\n",
    "\n",
    "print(1name)"
   ]
  },
  {
   "cell_type": "code",
   "execution_count": 8,
   "id": "d5db66c4",
   "metadata": {},
   "outputs": [
    {
     "name": "stdout",
     "output_type": "stream",
     "text": [
      "taneja\n"
     ]
    }
   ],
   "source": [
    "name1 = 'taneja'\n",
    "\n",
    "print(name1)"
   ]
  },
  {
   "cell_type": "code",
   "execution_count": null,
   "id": "81eb9ab6",
   "metadata": {},
   "outputs": [],
   "source": []
  },
  {
   "cell_type": "code",
   "execution_count": null,
   "id": "cbf77735",
   "metadata": {},
   "outputs": [],
   "source": [
    "Rule no 3 : A variable should not contain any special characters.\n",
    "    \n",
    "@$%&"
   ]
  },
  {
   "cell_type": "code",
   "execution_count": 9,
   "id": "8c6a6a7e",
   "metadata": {},
   "outputs": [
    {
     "ename": "SyntaxError",
     "evalue": "invalid syntax (1505998037.py, line 1)",
     "output_type": "error",
     "traceback": [
      "\u001b[1;36m  Input \u001b[1;32mIn [9]\u001b[1;36m\u001b[0m\n\u001b[1;33m    name@ = 'neha'\u001b[0m\n\u001b[1;37m          ^\u001b[0m\n\u001b[1;31mSyntaxError\u001b[0m\u001b[1;31m:\u001b[0m invalid syntax\n"
     ]
    }
   ],
   "source": [
    "name@ = 'neha'\n",
    "\n",
    "print(name2)"
   ]
  },
  {
   "cell_type": "code",
   "execution_count": null,
   "id": "fd952373",
   "metadata": {},
   "outputs": [],
   "source": [
    "for executing the cells we have to press shift + enter button"
   ]
  },
  {
   "cell_type": "code",
   "execution_count": null,
   "id": "fd9edc95",
   "metadata": {},
   "outputs": [],
   "source": []
  },
  {
   "cell_type": "code",
   "execution_count": null,
   "id": "c8462242",
   "metadata": {},
   "outputs": [],
   "source": [
    "introduction to datatypes in python :\n",
    "    1. String ---> str\n",
    "    \n",
    "    2. Number ---> integers (int) and floats (float) (decimal)\n",
    "    \n",
    "    3. Lists ----> list\n",
    "    \n",
    "    4. Tuples ----> tuple\n",
    "    \n",
    "    5. Dictionaries ---> dict\n",
    "    "
   ]
  },
  {
   "cell_type": "code",
   "execution_count": null,
   "id": "af9152f6",
   "metadata": {},
   "outputs": [],
   "source": []
  },
  {
   "cell_type": "code",
   "execution_count": null,
   "id": "3f731b7c",
   "metadata": {},
   "outputs": [],
   "source": [
    "classification of data types in python : \n",
    "    \n",
    "    1. Mutable ----> which we can not edit and alter ====> flexible in nature\n",
    "    \n",
    "    2. Immutable -----> which we cannot able to edit or alter ===> fixed in nature"
   ]
  },
  {
   "cell_type": "code",
   "execution_count": null,
   "id": "a9e37eca",
   "metadata": {},
   "outputs": [],
   "source": []
  },
  {
   "cell_type": "code",
   "execution_count": null,
   "id": "35417d26",
   "metadata": {},
   "outputs": [],
   "source": [
    "Introduction to string datatype :\n",
    "    \n",
    "Defination : A string is a series of characters declared in quotes.\n",
    "    \n",
    "Classification : It is classified as an immutable datatype\n",
    "    \n",
    "how to declare the string datatypes..? \n",
    "\n",
    "3 approaches of declaring the string.\n",
    "\n",
    "1. single quote\n",
    "\n",
    "2. double quote\n",
    "\n",
    "3. triple quote"
   ]
  },
  {
   "cell_type": "code",
   "execution_count": null,
   "id": "726726bf",
   "metadata": {},
   "outputs": [],
   "source": []
  },
  {
   "cell_type": "code",
   "execution_count": 10,
   "id": "09a654dc",
   "metadata": {},
   "outputs": [
    {
     "name": "stdout",
     "output_type": "stream",
     "text": [
      "ravi\n"
     ]
    }
   ],
   "source": [
    "name1 = 'ravi' # single quote\n",
    "\n",
    "print(name1)"
   ]
  },
  {
   "cell_type": "code",
   "execution_count": 11,
   "id": "83a38249",
   "metadata": {},
   "outputs": [
    {
     "name": "stdout",
     "output_type": "stream",
     "text": [
      "rupali\n"
     ]
    }
   ],
   "source": [
    "name2 = \"rupali\" \n",
    "\n",
    "print(name2)"
   ]
  },
  {
   "cell_type": "code",
   "execution_count": 12,
   "id": "952ee3b7",
   "metadata": {},
   "outputs": [
    {
     "name": "stdout",
     "output_type": "stream",
     "text": [
      "prial\n"
     ]
    }
   ],
   "source": [
    "name3 = \"\"\"prial\"\"\"\n",
    "\n",
    "print(name3)"
   ]
  },
  {
   "cell_type": "code",
   "execution_count": null,
   "id": "561b3c3b",
   "metadata": {},
   "outputs": [],
   "source": []
  }
 ],
 "metadata": {
  "kernelspec": {
   "display_name": "Python 3 (ipykernel)",
   "language": "python",
   "name": "python3"
  },
  "language_info": {
   "codemirror_mode": {
    "name": "ipython",
    "version": 3
   },
   "file_extension": ".py",
   "mimetype": "text/x-python",
   "name": "python",
   "nbconvert_exporter": "python",
   "pygments_lexer": "ipython3",
   "version": "3.9.12"
  }
 },
 "nbformat": 4,
 "nbformat_minor": 5
}
